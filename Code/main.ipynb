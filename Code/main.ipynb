{
 "cells": [
  {
   "cell_type": "code",
   "execution_count": 1,
   "metadata": {},
   "outputs": [],
   "source": [
    "from config import url, user_email, user_password\n",
    "from splinter import Browser\n",
    "import pandas as pd\n",
    "from datetime import datetime, timedelta"
   ]
  },
  {
   "cell_type": "code",
   "execution_count": 2,
   "metadata": {},
   "outputs": [],
   "source": [
    "executable_path = {'executable_path': 'chromedriver.exe'}\n",
    "browser = Browser('chrome', **executable_path, headless=False)\n"
   ]
  },
  {
   "cell_type": "code",
   "execution_count": 3,
   "metadata": {},
   "outputs": [],
   "source": [
    "browser.visit(url)\n",
    "browser.find_by_id('ius-userid').first.fill(user_email)\n",
    "browser.find_by_id('ius-password').first.fill(user_password)\n",
    "browser.find_by_id('ius-sign-in-submit-btn').first.click()"
   ]
  },
  {
   "cell_type": "code",
   "execution_count": 4,
   "metadata": {},
   "outputs": [
    {
     "name": "stderr",
     "output_type": "stream",
     "text": [
      "C:\\Users\\Gabe\\anaconda3\\lib\\site-packages\\splinter\\driver\\webdriver\\__init__.py:493: FutureWarning: browser.find_link_by_partial_text is deprecated. Use browser.links.find_by_partial_text instead.\n",
      "  FutureWarning,\n"
     ]
    }
   ],
   "source": [
    "browser.click_link_by_partial_text('Transactions')"
   ]
  },
  {
   "cell_type": "code",
   "execution_count": 5,
   "metadata": {},
   "outputs": [],
   "source": [
    "yesterday=datetime.now()-timedelta(1)\n",
    "yesterday=datetime.strftime(yesterday, '%b %d')"
   ]
  },
  {
   "cell_type": "code",
   "execution_count": 6,
   "metadata": {},
   "outputs": [
    {
     "data": {
      "text/html": [
       "<div>\n",
       "<style scoped>\n",
       "    .dataframe tbody tr th:only-of-type {\n",
       "        vertical-align: middle;\n",
       "    }\n",
       "\n",
       "    .dataframe tbody tr th {\n",
       "        vertical-align: top;\n",
       "    }\n",
       "\n",
       "    .dataframe thead th {\n",
       "        text-align: right;\n",
       "    }\n",
       "</style>\n",
       "<table border=\"1\" class=\"dataframe\">\n",
       "  <thead>\n",
       "    <tr style=\"text-align: right;\">\n",
       "      <th></th>\n",
       "      <th>Date</th>\n",
       "      <th>Description</th>\n",
       "      <th>Category</th>\n",
       "      <th>Amount</th>\n",
       "    </tr>\n",
       "  </thead>\n",
       "  <tbody>\n",
       "    <tr>\n",
       "      <th>0</th>\n",
       "      <td>Jan 30</td>\n",
       "      <td>FXO POS SHIPPING</td>\n",
       "      <td>Shipping</td>\n",
       "      <td>-$13.25</td>\n",
       "    </tr>\n",
       "    <tr>\n",
       "      <th>1</th>\n",
       "      <td>Jan 30</td>\n",
       "      <td>Target</td>\n",
       "      <td>Shopping</td>\n",
       "      <td>-$74.89</td>\n",
       "    </tr>\n",
       "    <tr>\n",
       "      <th>2</th>\n",
       "      <td>Jan 30</td>\n",
       "      <td>VINTAGE MARKETPLACE</td>\n",
       "      <td>Groceries</td>\n",
       "      <td>-$209.72</td>\n",
       "    </tr>\n",
       "    <tr>\n",
       "      <th>5</th>\n",
       "      <td>Jan 30</td>\n",
       "      <td>Blinds.com</td>\n",
       "      <td>Furnishings</td>\n",
       "      <td>-$429.91</td>\n",
       "    </tr>\n",
       "    <tr>\n",
       "      <th>6</th>\n",
       "      <td>Jan 30</td>\n",
       "      <td>MOBILE PAYMENT - THANK YOU</td>\n",
       "      <td>Credit Card Pay…</td>\n",
       "      <td>$5,726.28</td>\n",
       "    </tr>\n",
       "  </tbody>\n",
       "</table>\n",
       "</div>"
      ],
      "text/plain": [
       "     Date                 Description          Category     Amount\n",
       "0  Jan 30            FXO POS SHIPPING          Shipping    -$13.25\n",
       "1  Jan 30                      Target          Shopping    -$74.89\n",
       "2  Jan 30         VINTAGE MARKETPLACE         Groceries   -$209.72\n",
       "5  Jan 30                  Blinds.com       Furnishings   -$429.91\n",
       "6  Jan 30  MOBILE PAYMENT - THANK YOU  Credit Card Pay…  $5,726.28"
      ]
     },
     "execution_count": 6,
     "metadata": {},
     "output_type": "execute_result"
    }
   ],
   "source": [
    "html=browser.html\n",
    "transactions = pd.read_html(html)[7]\n",
    "transactions = transactions[['Date','Description','Category','Amount']].droplevel(1,axis=1)\n",
    "transactions=transactions[transactions['Date']==yesterday]\n",
    "transactions"
   ]
  },
  {
   "cell_type": "code",
   "execution_count": 7,
   "metadata": {},
   "outputs": [
    {
     "name": "stderr",
     "output_type": "stream",
     "text": [
      "C:\\Users\\Gabe\\anaconda3\\lib\\site-packages\\splinter\\driver\\webdriver\\__init__.py:493: FutureWarning: browser.find_link_by_partial_text is deprecated. Use browser.links.find_by_partial_text instead.\n",
      "  FutureWarning,\n"
     ]
    }
   ],
   "source": [
    "browser.click_link_by_partial_text('Budgets')"
   ]
  },
  {
   "cell_type": "code",
   "execution_count": 8,
   "metadata": {},
   "outputs": [],
   "source": [
    "income_element = browser.find_by_id('incomeBudget-list-body')\n",
    "income = income_element.screenshot_as_png()\n",
    "income.save('Screenshots/Income.png')\n"
   ]
  },
  {
   "cell_type": "code",
   "execution_count": 9,
   "metadata": {},
   "outputs": [],
   "source": [
    "budget_element = browser.find_by_id('spendingBudget-list-body')\n",
    "budgets = budget_element.screenshot_as_png()\n",
    "budgets.save('Screenshots/Budgets.png')\n"
   ]
  },
  {
   "cell_type": "code",
   "execution_count": 10,
   "metadata": {},
   "outputs": [],
   "source": [
    "browser.quit()"
   ]
  },
  {
   "cell_type": "code",
   "execution_count": null,
   "metadata": {},
   "outputs": [],
   "source": []
  }
 ],
 "metadata": {
  "kernelspec": {
   "display_name": "Python 3",
   "language": "python",
   "name": "python3"
  },
  "language_info": {
   "codemirror_mode": {
    "name": "ipython",
    "version": 3
   },
   "file_extension": ".py",
   "mimetype": "text/x-python",
   "name": "python",
   "nbconvert_exporter": "python",
   "pygments_lexer": "ipython3",
   "version": "3.7.6"
  }
 },
 "nbformat": 4,
 "nbformat_minor": 2
}
