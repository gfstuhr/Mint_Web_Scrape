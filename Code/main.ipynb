{
 "metadata": {
  "language_info": {
   "codemirror_mode": {
    "name": "ipython",
    "version": 3
   },
   "file_extension": ".py",
   "mimetype": "text/x-python",
   "name": "python",
   "nbconvert_exporter": "python",
   "pygments_lexer": "ipython3",
   "version": "3.7.6-final"
  },
  "orig_nbformat": 2,
  "kernelspec": {
   "name": "python3",
   "display_name": "Python 3",
   "language": "python"
  }
 },
 "nbformat": 4,
 "nbformat_minor": 2,
 "cells": [
  {
   "cell_type": "code",
   "execution_count": 1,
   "metadata": {},
   "outputs": [],
   "source": [
    "from config import url, user_email, user_password\n",
    "from bs4 import BeautifulSoup\n",
    "from splinter import Browser\n",
    "import pandas as pd\n",
    "import requests\n",
    "from datetime import datetime, timedelta"
   ]
  },
  {
   "cell_type": "code",
   "execution_count": 2,
   "metadata": {},
   "outputs": [],
   "source": [
    "executable_path = {'executable_path': 'chromedriver.exe'}\n",
    "browser = Browser('chrome', **executable_path, headless=False)\n"
   ]
  },
  {
   "cell_type": "code",
   "execution_count": 3,
   "metadata": {},
   "outputs": [],
   "source": [
    "browser.visit(url)\n",
    "browser.find_by_id('ius-userid').first.fill(user_email)\n",
    "browser.find_by_id('ius-password').first.fill(user_password)\n",
    "browser.find_by_id('ius-sign-in-submit-btn').first.click()"
   ]
  },
  {
   "cell_type": "code",
   "execution_count": 4,
   "metadata": {},
   "outputs": [],
   "source": [
    "browser.click_link_by_partial_text('Transactions')"
   ]
  },
  {
   "cell_type": "code",
   "execution_count": 15,
   "metadata": {},
   "outputs": [
    {
     "output_type": "execute_result",
     "data": {
      "text/plain": [
       "  Unnamed: 0_level_0        Date Unnamed: 2_level_0     Description  \\\n",
       "         Pending (4) Pending (4)        Pending (4)     Pending (4)   \n",
       "0                NaN      Jan 20                NaN    CHECK # 1130   \n",
       "1                NaN      Jan 20                NaN    Edward Jones   \n",
       "2                NaN      Jan 20                NaN    Edward Jones   \n",
       "3                NaN      Jan 18                NaN          Amazon   \n",
       "4                NaN      Jan 19                NaN  MOBILE DEPOSIT   \n",
       "\n",
       "           Category Unnamed: 5_level_0 Unnamed: 6_level_0      Amount  \n",
       "        Pending (4)        Pending (4)        Pending (4) Pending (4)  \n",
       "0             Check                NaN                NaN    -$300.00  \n",
       "1  IRA Contribution                NaN                NaN     -$50.00  \n",
       "2  IRA Contribution                NaN                NaN     -$50.00  \n",
       "3          Shopping                NaN                NaN     -$99.86  \n",
       "4            Income                NaN                NaN   $1,301.11  "
      ],
      "text/html": "<div>\n<style scoped>\n    .dataframe tbody tr th:only-of-type {\n        vertical-align: middle;\n    }\n\n    .dataframe tbody tr th {\n        vertical-align: top;\n    }\n\n    .dataframe thead tr th {\n        text-align: left;\n    }\n</style>\n<table border=\"1\" class=\"dataframe\">\n  <thead>\n    <tr>\n      <th></th>\n      <th>Unnamed: 0_level_0</th>\n      <th>Date</th>\n      <th>Unnamed: 2_level_0</th>\n      <th>Description</th>\n      <th>Category</th>\n      <th>Unnamed: 5_level_0</th>\n      <th>Unnamed: 6_level_0</th>\n      <th>Amount</th>\n    </tr>\n    <tr>\n      <th></th>\n      <th>Pending (4)</th>\n      <th>Pending (4)</th>\n      <th>Pending (4)</th>\n      <th>Pending (4)</th>\n      <th>Pending (4)</th>\n      <th>Pending (4)</th>\n      <th>Pending (4)</th>\n      <th>Pending (4)</th>\n    </tr>\n  </thead>\n  <tbody>\n    <tr>\n      <th>0</th>\n      <td>NaN</td>\n      <td>Jan 20</td>\n      <td>NaN</td>\n      <td>CHECK # 1130</td>\n      <td>Check</td>\n      <td>NaN</td>\n      <td>NaN</td>\n      <td>-$300.00</td>\n    </tr>\n    <tr>\n      <th>1</th>\n      <td>NaN</td>\n      <td>Jan 20</td>\n      <td>NaN</td>\n      <td>Edward Jones</td>\n      <td>IRA Contribution</td>\n      <td>NaN</td>\n      <td>NaN</td>\n      <td>-$50.00</td>\n    </tr>\n    <tr>\n      <th>2</th>\n      <td>NaN</td>\n      <td>Jan 20</td>\n      <td>NaN</td>\n      <td>Edward Jones</td>\n      <td>IRA Contribution</td>\n      <td>NaN</td>\n      <td>NaN</td>\n      <td>-$50.00</td>\n    </tr>\n    <tr>\n      <th>3</th>\n      <td>NaN</td>\n      <td>Jan 18</td>\n      <td>NaN</td>\n      <td>Amazon</td>\n      <td>Shopping</td>\n      <td>NaN</td>\n      <td>NaN</td>\n      <td>-$99.86</td>\n    </tr>\n    <tr>\n      <th>4</th>\n      <td>NaN</td>\n      <td>Jan 19</td>\n      <td>NaN</td>\n      <td>MOBILE DEPOSIT</td>\n      <td>Income</td>\n      <td>NaN</td>\n      <td>NaN</td>\n      <td>$1,301.11</td>\n    </tr>\n  </tbody>\n</table>\n</div>"
     },
     "metadata": {},
     "execution_count": 15
    }
   ],
   "source": [
    "html=browser.html\n",
    "transactions = pd.read_html(html)[7]\n",
    "transactions.head()"
   ]
  },
  {
   "cell_type": "code",
   "execution_count": 8,
   "metadata": {},
   "outputs": [
    {
     "output_type": "execute_result",
     "data": {
      "text/plain": [
       "datetime.datetime(2021, 1, 19, 15, 26, 37, 851718)"
      ]
     },
     "metadata": {},
     "execution_count": 8
    }
   ],
   "source": [
    "yesterday=datetime.now()-timedelta(1)\n",
    "yesterday"
   ]
  },
  {
   "cell_type": "code",
   "execution_count": 4,
   "metadata": {},
   "outputs": [],
   "source": [
    "browser.quit()\n"
   ]
  },
  {
   "cell_type": "code",
   "execution_count": null,
   "metadata": {},
   "outputs": [],
   "source": []
  }
 ]
}