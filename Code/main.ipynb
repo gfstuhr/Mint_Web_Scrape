{
 "cells": [
  {
   "cell_type": "code",
   "execution_count": 1,
   "metadata": {},
   "outputs": [],
   "source": [
    "# Dependencies\n",
    "from config import url, user_email, user_password\n",
    "from splinter import Browser\n",
    "import pandas as pd\n",
    "from datetime import datetime, timedelta\n",
    "from bs4 import BeautifulSoup\n",
    "import re"
   ]
  },
  {
   "cell_type": "code",
   "execution_count": 2,
   "metadata": {},
   "outputs": [],
   "source": [
    "# Browser setup\n",
    "executable_path = {'executable_path': 'chromedriver.exe'}\n",
    "browser = Browser('chrome', **executable_path, headless=False)\n"
   ]
  },
  {
   "cell_type": "code",
   "execution_count": 3,
   "metadata": {},
   "outputs": [],
   "source": [
    "# Log In to Mint\n",
    "browser.visit(url)\n",
    "browser.find_by_id('ius-userid').first.fill(user_email)\n",
    "browser.find_by_id('ius-password').first.fill(user_password)\n",
    "browser.find_by_id('ius-sign-in-submit-btn').first.click()"
   ]
  },
  {
   "cell_type": "code",
   "execution_count": 5,
   "metadata": {},
   "outputs": [],
   "source": [
    "# Go to transactions page\n",
    "browser.click_link_by_partial_text('Transactions')"
   ]
  },
  {
   "cell_type": "code",
   "execution_count": 6,
   "metadata": {},
   "outputs": [],
   "source": [
    "# Defining yesterday's date\n",
    "yesterday=datetime.now()-timedelta(1)\n",
    "yesterday=datetime.strftime(yesterday, '%b %d')"
   ]
  },
  {
   "cell_type": "code",
   "execution_count": 7,
   "metadata": {},
   "outputs": [
    {
     "output_type": "execute_result",
     "data": {
      "text/plain": [
       "Empty DataFrame\n",
       "Columns: [Date, Description, Category, Amount]\n",
       "Index: []"
      ],
      "text/html": "<div>\n<style scoped>\n    .dataframe tbody tr th:only-of-type {\n        vertical-align: middle;\n    }\n\n    .dataframe tbody tr th {\n        vertical-align: top;\n    }\n\n    .dataframe thead th {\n        text-align: right;\n    }\n</style>\n<table border=\"1\" class=\"dataframe\">\n  <thead>\n    <tr style=\"text-align: right;\">\n      <th></th>\n      <th>Date</th>\n      <th>Description</th>\n      <th>Category</th>\n      <th>Amount</th>\n    </tr>\n  </thead>\n  <tbody>\n  </tbody>\n</table>\n</div>"
     },
     "metadata": {},
     "execution_count": 7
    }
   ],
   "source": [
    "# Getting yesterday's transactions\n",
    "html=browser.html\n",
    "transactions = pd.read_html(html)[7]\n",
    "transactions = transactions[['Date','Description','Category','Amount']].droplevel(1,axis=1)\n",
    "transactions=transactions[transactions['Date']==yesterday]"
   ]
  },
  {
   "cell_type": "code",
   "execution_count": 8,
   "metadata": {},
   "outputs": [],
   "source": [
    "# Go to budgets page\n",
    "browser.click_link_by_partial_text('Budgets')"
   ]
  },
  {
   "cell_type": "code",
   "execution_count": 9,
   "metadata": {},
   "outputs": [],
   "source": [
    "# Get HTML \n",
    "html=browser.html\n",
    "soup=BeautifulSoup(html,\"html.parser\")\n",
    "\n",
    "# Find Income Data\n",
    "income = soup.find('ul',id='incomeBudget-list-body').find_all('strong')\n",
    "income_title = income[0].text\n",
    "income_progress = income[1].text\n",
    "income_goal = income[2].text\n",
    "income_details = {\n",
    "    'Name': income_title,\n",
    "    'Budget Amount': income_progress,\n",
    "    'Amount Spent': income_goal\n",
    "}\n",
    "\n",
    "# Find Budget Data\n",
    "budgets = soup.find('ul', id='spendingBudget-list-body')\n",
    "budget_list =[]\n",
    "for result in budgets.find_all('li',id=re.compile('budget-')):\n",
    "    budget_items = result.find_all('strong')\n",
    "    budget_name = budget_items[0].text\n",
    "    budget_spent = budget_items[1].text\n",
    "    budget_amount = budget_items[2].text\n",
    "    budget_details = {\n",
    "        'Name': budget_name,\n",
    "        'Budget Amount': budget_amount,\n",
    "        'Amount Spent': budget_spent\n",
    "    }\n",
    "    budget_list.append(budget_details)\n",
    "\n",
    "#Find Everything Else Data\n",
    "everything_else = soup.find('li',id='spendingEE-list-total').find_all('strong')\n",
    "everything_title = everything_else[0].text\n",
    "everything_spent = everything_else[1].text\n",
    "everything_goal = everything_else[2].text\n",
    "everything_details = {\n",
    "    'Name': everything_title,\n",
    "    'Budget Amount': everything_spent,\n",
    "    'Amount Spent': everything_goal\n",
    "}"
   ]
  },
  {
   "cell_type": "code",
   "execution_count": 10,
   "metadata": {},
   "outputs": [],
   "source": [
    "# Closer browser\n",
    "browser.quit()"
   ]
  },
  {
   "cell_type": "code",
   "execution_count": 15,
   "metadata": {},
   "outputs": [],
   "source": [
    "# Converting dictonaries to dataframes\n",
    "income_df = pd.DataFrame([income_details])\n",
    "budget_df = pd.DataFrame(budget_list)\n",
    "everything_df = pd.DataFrame([everything_details])"
   ]
  },
  {
   "cell_type": "code",
   "execution_count": 32,
   "metadata": {},
   "outputs": [
    {
     "output_type": "execute_result",
     "data": {
      "text/plain": [
       "                Name  Budget Amount  Amount Spent  Remaining Budget\n",
       "0             Income           1373          5200             -3827\n",
       "1    Mortgage & Rent           2375          2447               -72\n",
       "2          Groceries            500           115               385\n",
       "3       Auto Payment            393             0               393\n",
       "4          Utilities            300             0               300\n",
       "5   Check to Savings            250             0               250\n",
       "6        Restaurants            200            97               103\n",
       "7   IRA Contribution            200             0               200\n",
       "8     Auto Insurance            161          -527               688\n",
       "9                Gym            127           127                 0\n",
       "10      Mobile Phone             80             0                80\n",
       "11          Internet             70             0                70\n",
       "12        Gas & Fuel             60            32                28\n",
       "13      Student Loan             59             0                59\n",
       "14    Emergency Fund             50             0                50\n",
       "15     Subscriptions             19             0                19\n",
       "16            Travel              0           291              -291\n",
       "17       Superfluous              0             0                 0\n",
       "18   Everything Else           1494           300              1194"
      ],
      "text/html": "<div>\n<style scoped>\n    .dataframe tbody tr th:only-of-type {\n        vertical-align: middle;\n    }\n\n    .dataframe tbody tr th {\n        vertical-align: top;\n    }\n\n    .dataframe thead th {\n        text-align: right;\n    }\n</style>\n<table border=\"1\" class=\"dataframe\">\n  <thead>\n    <tr style=\"text-align: right;\">\n      <th></th>\n      <th>Name</th>\n      <th>Budget Amount</th>\n      <th>Amount Spent</th>\n      <th>Remaining Budget</th>\n    </tr>\n  </thead>\n  <tbody>\n    <tr>\n      <th>0</th>\n      <td>Income</td>\n      <td>1373</td>\n      <td>5200</td>\n      <td>-3827</td>\n    </tr>\n    <tr>\n      <th>1</th>\n      <td>Mortgage &amp; Rent</td>\n      <td>2375</td>\n      <td>2447</td>\n      <td>-72</td>\n    </tr>\n    <tr>\n      <th>2</th>\n      <td>Groceries</td>\n      <td>500</td>\n      <td>115</td>\n      <td>385</td>\n    </tr>\n    <tr>\n      <th>3</th>\n      <td>Auto Payment</td>\n      <td>393</td>\n      <td>0</td>\n      <td>393</td>\n    </tr>\n    <tr>\n      <th>4</th>\n      <td>Utilities</td>\n      <td>300</td>\n      <td>0</td>\n      <td>300</td>\n    </tr>\n    <tr>\n      <th>5</th>\n      <td>Check to Savings</td>\n      <td>250</td>\n      <td>0</td>\n      <td>250</td>\n    </tr>\n    <tr>\n      <th>6</th>\n      <td>Restaurants</td>\n      <td>200</td>\n      <td>97</td>\n      <td>103</td>\n    </tr>\n    <tr>\n      <th>7</th>\n      <td>IRA Contribution</td>\n      <td>200</td>\n      <td>0</td>\n      <td>200</td>\n    </tr>\n    <tr>\n      <th>8</th>\n      <td>Auto Insurance</td>\n      <td>161</td>\n      <td>-527</td>\n      <td>688</td>\n    </tr>\n    <tr>\n      <th>9</th>\n      <td>Gym</td>\n      <td>127</td>\n      <td>127</td>\n      <td>0</td>\n    </tr>\n    <tr>\n      <th>10</th>\n      <td>Mobile Phone</td>\n      <td>80</td>\n      <td>0</td>\n      <td>80</td>\n    </tr>\n    <tr>\n      <th>11</th>\n      <td>Internet</td>\n      <td>70</td>\n      <td>0</td>\n      <td>70</td>\n    </tr>\n    <tr>\n      <th>12</th>\n      <td>Gas &amp; Fuel</td>\n      <td>60</td>\n      <td>32</td>\n      <td>28</td>\n    </tr>\n    <tr>\n      <th>13</th>\n      <td>Student Loan</td>\n      <td>59</td>\n      <td>0</td>\n      <td>59</td>\n    </tr>\n    <tr>\n      <th>14</th>\n      <td>Emergency Fund</td>\n      <td>50</td>\n      <td>0</td>\n      <td>50</td>\n    </tr>\n    <tr>\n      <th>15</th>\n      <td>Subscriptions</td>\n      <td>19</td>\n      <td>0</td>\n      <td>19</td>\n    </tr>\n    <tr>\n      <th>16</th>\n      <td>Travel</td>\n      <td>0</td>\n      <td>291</td>\n      <td>-291</td>\n    </tr>\n    <tr>\n      <th>17</th>\n      <td>Superfluous</td>\n      <td>0</td>\n      <td>0</td>\n      <td>0</td>\n    </tr>\n    <tr>\n      <th>18</th>\n      <td>Everything Else</td>\n      <td>1494</td>\n      <td>300</td>\n      <td>1194</td>\n    </tr>\n  </tbody>\n</table>\n</div>"
     },
     "metadata": {},
     "execution_count": 32
    }
   ],
   "source": [
    "# Combining all data frames\n",
    "all_budgets = pd.concat([income_df,budget_df,everything_df], ignore_index=True)\n",
    "all_budgets[all_budgets.columns[1:]] = all_budgets[all_budgets.columns[1:]].replace('[\\$,]', '', regex=True).astype(int)\n",
    "all_budgets['Remaining Budget'] = all_budgets['Budget Amount'] - all_budgets['Amount Spent']\n",
    "all_budgets"
   ]
  }
 ],
 "metadata": {
  "kernelspec": {
   "display_name": "Python 3",
   "language": "python",
   "name": "python3"
  },
  "language_info": {
   "codemirror_mode": {
    "name": "ipython",
    "version": 3
   },
   "file_extension": ".py",
   "mimetype": "text/x-python",
   "name": "python",
   "nbconvert_exporter": "python",
   "pygments_lexer": "ipython3",
   "version": "3.7.6-final"
  }
 },
 "nbformat": 4,
 "nbformat_minor": 2
}