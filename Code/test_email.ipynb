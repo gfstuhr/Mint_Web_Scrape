{
 "cells": [
  {
   "cell_type": "code",
   "execution_count": 1,
   "source": [
    "from scrape import scrape\r\n",
    "from config import email_list, gmail, gmail_pass\r\n",
    "from email.mime.text import MIMEText\r\n",
    "from email.mime.application import MIMEApplication\r\n",
    "from email.mime.multipart import MIMEMultipart\r\n",
    "from smtplib import SMTP\r\n",
    "import smtplib, ssl\r\n",
    "import sys"
   ],
   "outputs": [],
   "metadata": {}
  },
  {
   "cell_type": "code",
   "execution_count": 2,
   "source": [
    "all_budgets,transactions = scrape()"
   ],
   "outputs": [],
   "metadata": {}
  },
  {
   "cell_type": "code",
   "execution_count": 3,
   "source": [
    "msg = MIMEMultipart()\r\n",
    "msg['Subject'] = 'Daily Budget Update'\r\n",
    "msg['From'] = gmail"
   ],
   "outputs": [],
   "metadata": {}
  },
  {
   "cell_type": "code",
   "execution_count": 4,
   "source": [
    "html = \"\"\"\\\r\n",
    "<html>\r\n",
    "  <head></head>\r\n",
    "  <body>\r\n",
    "    {0}\r\n",
    "  </body>\r\n",
    "</html>\r\n",
    "\"\"\".format(all_budgets.to_html())\r\n",
    "\r\n",
    "html2 = \"\"\"\\\r\n",
    "<html>\r\n",
    "  <head></head>\r\n",
    "  <body>\r\n",
    "    {0}\r\n",
    "  </body>\r\n",
    "</html>\r\n",
    "\"\"\".format(transactions.to_html())"
   ],
   "outputs": [],
   "metadata": {}
  },
  {
   "cell_type": "code",
   "execution_count": 10,
   "source": [
    "part1 = MIMEText(html, 'html')\r\n",
    "part2 = MIMEText(html2, 'html')\r\n",
    "msg.attach(part1)\r\n",
    "msg.attach(part2)\r\n"
   ],
   "outputs": [],
   "metadata": {}
  },
  {
   "cell_type": "code",
   "execution_count": 11,
   "source": [
    "context = ssl.create_default_context()\r\n",
    "with smtplib.SMTP_SSL('smtp.gmail.com',port=465, context=context) as server:\r\n",
    "    server.login(gmail,gmail_pass)\r\n",
    "    server.sendmail(gmail, email_list, msg.as_string()) "
   ],
   "outputs": [],
   "metadata": {}
  },
  {
   "cell_type": "code",
   "execution_count": null,
   "source": [],
   "outputs": [],
   "metadata": {}
  }
 ],
 "metadata": {
  "orig_nbformat": 4,
  "language_info": {
   "name": "python",
   "version": "3.7.6",
   "mimetype": "text/x-python",
   "codemirror_mode": {
    "name": "ipython",
    "version": 3
   },
   "pygments_lexer": "ipython3",
   "nbconvert_exporter": "python",
   "file_extension": ".py"
  },
  "kernelspec": {
   "name": "python3",
   "display_name": "Python 3.7.6 64-bit ('base': conda)"
  },
  "interpreter": {
   "hash": "99b88af7128504be879994067e556c218d2fa3fc4f94dab5aa11f6d9cef80e92"
  }
 },
 "nbformat": 4,
 "nbformat_minor": 2
}