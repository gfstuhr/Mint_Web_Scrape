{
 "cells": [
  {
   "cell_type": "code",
   "execution_count": 1,
   "source": [
    "# Dependencies\r\n",
    "from config import url, user_email, user_password\r\n",
    "from splinter import Browser\r\n",
    "import pandas as pd\r\n",
    "from datetime import datetime, timedelta\r\n",
    "import time\r\n",
    "from bs4 import BeautifulSoup\r\n",
    "import re"
   ],
   "outputs": [],
   "metadata": {}
  },
  {
   "cell_type": "code",
   "execution_count": 2,
   "source": [
    "# Browser setup\r\n",
    "executable_path = {'executable_path': 'chromedriver.exe'}\r\n",
    "browser = Browser('chrome', **executable_path, headless=False)\r\n"
   ],
   "outputs": [],
   "metadata": {}
  },
  {
   "cell_type": "code",
   "execution_count": 3,
   "source": [
    "# Log In to Mint\r\n",
    "browser.visit(url)\r\n",
    "browser.find_by_id('ius-identifier').first.fill(user_email)\r\n",
    "browser.find_by_id('ius-sign-in-submit-btn').first.click()\r\n",
    "time.sleep(5)\r\n",
    "browser.find_by_id('ius-sign-in-mfa-password-collection-current-password').first.fill(user_password)\r\n",
    "browser.find_by_id('ius-sign-in-mfa-password-collection-continue-btn').first.click()"
   ],
   "outputs": [],
   "metadata": {}
  },
  {
   "cell_type": "code",
   "execution_count": 4,
   "source": [
    "# Go to transactions page\r\n",
    "browser.click_link_by_partial_text('Transactions')"
   ],
   "outputs": [
    {
     "output_type": "stream",
     "name": "stderr",
     "text": [
      "C:\\Users\\gabe_\\anaconda3\\lib\\site-packages\\splinter\\driver\\webdriver\\__init__.py:493: FutureWarning: browser.find_link_by_partial_text is deprecated. Use browser.links.find_by_partial_text instead.\n",
      "  FutureWarning,\n"
     ]
    }
   ],
   "metadata": {}
  },
  {
   "cell_type": "code",
   "execution_count": 5,
   "source": [
    "# Defining yesterday's date\r\n",
    "yesterday=datetime.now()-timedelta(1)\r\n",
    "yesterday=datetime.strftime(yesterday, '%b %#d')\r\n",
    "yesterday"
   ],
   "outputs": [
    {
     "output_type": "execute_result",
     "data": {
      "text/plain": [
       "'Sep 3'"
      ]
     },
     "metadata": {},
     "execution_count": 5
    }
   ],
   "metadata": {}
  },
  {
   "cell_type": "code",
   "execution_count": 6,
   "source": [
    "# Getting yesterday's transactions\r\n",
    "html=browser.html\r\n",
    "transactions = pd.read_html(html)[6]\r\n",
    "transactions = transactions[['Date','Description','Category','Amount']].droplevel(1,axis=1)\r\n",
    "transactions=transactions[transactions['Date']==yesterday]\r\n",
    "transactions\r\n"
   ],
   "outputs": [
    {
     "output_type": "execute_result",
     "data": {
      "text/html": [
       "<div>\n",
       "<style scoped>\n",
       "    .dataframe tbody tr th:only-of-type {\n",
       "        vertical-align: middle;\n",
       "    }\n",
       "\n",
       "    .dataframe tbody tr th {\n",
       "        vertical-align: top;\n",
       "    }\n",
       "\n",
       "    .dataframe thead th {\n",
       "        text-align: right;\n",
       "    }\n",
       "</style>\n",
       "<table border=\"1\" class=\"dataframe\">\n",
       "  <thead>\n",
       "    <tr style=\"text-align: right;\">\n",
       "      <th></th>\n",
       "      <th>Date</th>\n",
       "      <th>Description</th>\n",
       "      <th>Category</th>\n",
       "      <th>Amount</th>\n",
       "    </tr>\n",
       "  </thead>\n",
       "  <tbody>\n",
       "    <tr>\n",
       "      <th>0</th>\n",
       "      <td>Sep 3</td>\n",
       "      <td>King Soopers</td>\n",
       "      <td>Groceries</td>\n",
       "      <td>-$87.95</td>\n",
       "    </tr>\n",
       "  </tbody>\n",
       "</table>\n",
       "</div>"
      ],
      "text/plain": [
       "    Date   Description   Category   Amount\n",
       "0  Sep 3  King Soopers  Groceries  -$87.95"
      ]
     },
     "metadata": {},
     "execution_count": 6
    }
   ],
   "metadata": {}
  },
  {
   "cell_type": "code",
   "execution_count": 7,
   "source": [
    "# Go to budgets page\r\n",
    "browser.click_link_by_partial_text('Budgets')"
   ],
   "outputs": [
    {
     "output_type": "stream",
     "name": "stderr",
     "text": [
      "C:\\Users\\gabe_\\anaconda3\\lib\\site-packages\\splinter\\driver\\webdriver\\__init__.py:493: FutureWarning: browser.find_link_by_partial_text is deprecated. Use browser.links.find_by_partial_text instead.\n",
      "  FutureWarning,\n"
     ]
    }
   ],
   "metadata": {}
  },
  {
   "cell_type": "code",
   "execution_count": 8,
   "source": [
    "# Get HTML \r\n",
    "html=browser.html\r\n",
    "soup=BeautifulSoup(html,\"html.parser\")\r\n",
    "\r\n",
    "# Find Income Data\r\n",
    "income = soup.find('ul',id='incomeBudget-list-body').find_all('strong')\r\n",
    "income_title = income[0].text\r\n",
    "income_progress = income[1].text\r\n",
    "income_goal = income[2].text\r\n",
    "income_details = {\r\n",
    "    'Name': income_title,\r\n",
    "    'Budget Amount': income_progress,\r\n",
    "    'Amount Spent': income_goal\r\n",
    "}\r\n",
    "\r\n",
    "# Find Budget Data\r\n",
    "budgets = soup.find('ul', id='spendingBudget-list-body')\r\n",
    "budget_list =[]\r\n",
    "for result in budgets.find_all('li',id=re.compile('budget-')):\r\n",
    "    budget_items = result.find_all('strong')\r\n",
    "    budget_name = budget_items[0].text\r\n",
    "    budget_spent = budget_items[1].text\r\n",
    "    budget_amount = budget_items[2].text\r\n",
    "    budget_details = {\r\n",
    "        'Name': budget_name,\r\n",
    "        'Budget Amount': budget_amount,\r\n",
    "        'Amount Spent': budget_spent\r\n",
    "    }\r\n",
    "    budget_list.append(budget_details)\r\n",
    "\r\n",
    "#Find Everything Else Data\r\n",
    "everything_else = soup.find('li',id='spendingEE-list-total').find_all('strong')\r\n",
    "everything_title = everything_else[0].text\r\n",
    "everything_spent = everything_else[2].text\r\n",
    "everything_goal = everything_else[1].text\r\n",
    "everything_details = {\r\n",
    "    'Name': everything_title,\r\n",
    "    'Budget Amount': everything_spent,\r\n",
    "    'Amount Spent': everything_goal\r\n",
    "}"
   ],
   "outputs": [],
   "metadata": {}
  },
  {
   "cell_type": "code",
   "execution_count": 9,
   "source": [
    "# Closer browser\r\n",
    "browser.quit()"
   ],
   "outputs": [],
   "metadata": {}
  },
  {
   "cell_type": "code",
   "execution_count": 10,
   "source": [
    "# Converting dictonaries to dataframes\r\n",
    "income_df = pd.DataFrame([income_details])\r\n",
    "budget_df = pd.DataFrame(budget_list)\r\n",
    "everything_df = pd.DataFrame([everything_details])\r\n",
    "everything_df"
   ],
   "outputs": [
    {
     "output_type": "execute_result",
     "data": {
      "text/html": [
       "<div>\n",
       "<style scoped>\n",
       "    .dataframe tbody tr th:only-of-type {\n",
       "        vertical-align: middle;\n",
       "    }\n",
       "\n",
       "    .dataframe tbody tr th {\n",
       "        vertical-align: top;\n",
       "    }\n",
       "\n",
       "    .dataframe thead th {\n",
       "        text-align: right;\n",
       "    }\n",
       "</style>\n",
       "<table border=\"1\" class=\"dataframe\">\n",
       "  <thead>\n",
       "    <tr style=\"text-align: right;\">\n",
       "      <th></th>\n",
       "      <th>Name</th>\n",
       "      <th>Budget Amount</th>\n",
       "      <th>Amount Spent</th>\n",
       "    </tr>\n",
       "  </thead>\n",
       "  <tbody>\n",
       "    <tr>\n",
       "      <th>0</th>\n",
       "      <td>Everything Else</td>\n",
       "      <td>$900</td>\n",
       "      <td>$9</td>\n",
       "    </tr>\n",
       "  </tbody>\n",
       "</table>\n",
       "</div>"
      ],
      "text/plain": [
       "              Name Budget Amount Amount Spent\n",
       "0  Everything Else          $900           $9"
      ]
     },
     "metadata": {},
     "execution_count": 10
    }
   ],
   "metadata": {}
  },
  {
   "cell_type": "code",
   "execution_count": 11,
   "source": [
    "# Combining all data frames\r\n",
    "all_budgets = pd.concat([income_df,budget_df,everything_df], ignore_index=True)\r\n",
    "all_budgets[all_budgets.columns[1:]] = all_budgets[all_budgets.columns[1:]].replace('[\\$,]', '', regex=True).astype(int)\r\n",
    "all_budgets['Remaining Budget'] = all_budgets['Budget Amount'] - all_budgets['Amount Spent']\r\n",
    "all_budgets"
   ],
   "outputs": [
    {
     "output_type": "execute_result",
     "data": {
      "text/html": [
       "<div>\n",
       "<style scoped>\n",
       "    .dataframe tbody tr th:only-of-type {\n",
       "        vertical-align: middle;\n",
       "    }\n",
       "\n",
       "    .dataframe tbody tr th {\n",
       "        vertical-align: top;\n",
       "    }\n",
       "\n",
       "    .dataframe thead th {\n",
       "        text-align: right;\n",
       "    }\n",
       "</style>\n",
       "<table border=\"1\" class=\"dataframe\">\n",
       "  <thead>\n",
       "    <tr style=\"text-align: right;\">\n",
       "      <th></th>\n",
       "      <th>Name</th>\n",
       "      <th>Budget Amount</th>\n",
       "      <th>Amount Spent</th>\n",
       "      <th>Remaining Budget</th>\n",
       "    </tr>\n",
       "  </thead>\n",
       "  <tbody>\n",
       "    <tr>\n",
       "      <th>0</th>\n",
       "      <td>Income</td>\n",
       "      <td>0</td>\n",
       "      <td>6300</td>\n",
       "      <td>-6300</td>\n",
       "    </tr>\n",
       "    <tr>\n",
       "      <th>1</th>\n",
       "      <td>Mortgage &amp; Rent</td>\n",
       "      <td>2371</td>\n",
       "      <td>2371</td>\n",
       "      <td>0</td>\n",
       "    </tr>\n",
       "    <tr>\n",
       "      <th>2</th>\n",
       "      <td>Groceries</td>\n",
       "      <td>600</td>\n",
       "      <td>88</td>\n",
       "      <td>512</td>\n",
       "    </tr>\n",
       "    <tr>\n",
       "      <th>3</th>\n",
       "      <td>Auto Payment</td>\n",
       "      <td>393</td>\n",
       "      <td>0</td>\n",
       "      <td>393</td>\n",
       "    </tr>\n",
       "    <tr>\n",
       "      <th>4</th>\n",
       "      <td>Utilities</td>\n",
       "      <td>300</td>\n",
       "      <td>0</td>\n",
       "      <td>300</td>\n",
       "    </tr>\n",
       "    <tr>\n",
       "      <th>5</th>\n",
       "      <td>Check to Savings</td>\n",
       "      <td>250</td>\n",
       "      <td>0</td>\n",
       "      <td>250</td>\n",
       "    </tr>\n",
       "    <tr>\n",
       "      <th>6</th>\n",
       "      <td>Restaurants</td>\n",
       "      <td>200</td>\n",
       "      <td>32</td>\n",
       "      <td>168</td>\n",
       "    </tr>\n",
       "    <tr>\n",
       "      <th>7</th>\n",
       "      <td>IRA Contribution</td>\n",
       "      <td>200</td>\n",
       "      <td>0</td>\n",
       "      <td>200</td>\n",
       "    </tr>\n",
       "    <tr>\n",
       "      <th>8</th>\n",
       "      <td>Emergency Fund</td>\n",
       "      <td>200</td>\n",
       "      <td>0</td>\n",
       "      <td>200</td>\n",
       "    </tr>\n",
       "    <tr>\n",
       "      <th>9</th>\n",
       "      <td>Travel</td>\n",
       "      <td>200</td>\n",
       "      <td>0</td>\n",
       "      <td>200</td>\n",
       "    </tr>\n",
       "    <tr>\n",
       "      <th>10</th>\n",
       "      <td>Auto Insurance</td>\n",
       "      <td>181</td>\n",
       "      <td>181</td>\n",
       "      <td>0</td>\n",
       "    </tr>\n",
       "    <tr>\n",
       "      <th>11</th>\n",
       "      <td>Gym</td>\n",
       "      <td>171</td>\n",
       "      <td>171</td>\n",
       "      <td>0</td>\n",
       "    </tr>\n",
       "    <tr>\n",
       "      <th>12</th>\n",
       "      <td>Gas &amp; Fuel</td>\n",
       "      <td>100</td>\n",
       "      <td>0</td>\n",
       "      <td>100</td>\n",
       "    </tr>\n",
       "    <tr>\n",
       "      <th>13</th>\n",
       "      <td>Mobile Phone</td>\n",
       "      <td>80</td>\n",
       "      <td>0</td>\n",
       "      <td>80</td>\n",
       "    </tr>\n",
       "    <tr>\n",
       "      <th>14</th>\n",
       "      <td>Internet</td>\n",
       "      <td>73</td>\n",
       "      <td>0</td>\n",
       "      <td>73</td>\n",
       "    </tr>\n",
       "    <tr>\n",
       "      <th>15</th>\n",
       "      <td>Student Loan</td>\n",
       "      <td>60</td>\n",
       "      <td>0</td>\n",
       "      <td>60</td>\n",
       "    </tr>\n",
       "    <tr>\n",
       "      <th>16</th>\n",
       "      <td>Subscriptions</td>\n",
       "      <td>27</td>\n",
       "      <td>0</td>\n",
       "      <td>27</td>\n",
       "    </tr>\n",
       "    <tr>\n",
       "      <th>17</th>\n",
       "      <td>Everything Else</td>\n",
       "      <td>900</td>\n",
       "      <td>9</td>\n",
       "      <td>891</td>\n",
       "    </tr>\n",
       "  </tbody>\n",
       "</table>\n",
       "</div>"
      ],
      "text/plain": [
       "                Name  Budget Amount  Amount Spent  Remaining Budget\n",
       "0             Income              0          6300             -6300\n",
       "1    Mortgage & Rent           2371          2371                 0\n",
       "2          Groceries            600            88               512\n",
       "3       Auto Payment            393             0               393\n",
       "4          Utilities            300             0               300\n",
       "5   Check to Savings            250             0               250\n",
       "6        Restaurants            200            32               168\n",
       "7   IRA Contribution            200             0               200\n",
       "8     Emergency Fund            200             0               200\n",
       "9             Travel            200             0               200\n",
       "10    Auto Insurance            181           181                 0\n",
       "11               Gym            171           171                 0\n",
       "12        Gas & Fuel            100             0               100\n",
       "13      Mobile Phone             80             0                80\n",
       "14          Internet             73             0                73\n",
       "15      Student Loan             60             0                60\n",
       "16     Subscriptions             27             0                27\n",
       "17   Everything Else            900             9               891"
      ]
     },
     "metadata": {},
     "execution_count": 11
    }
   ],
   "metadata": {}
  },
  {
   "cell_type": "code",
   "execution_count": null,
   "source": [
    "from scrape import scrape\r\n",
    "from config import email_list, gmail, gmail_pass\r\n",
    "from email.mime.text import MIMEText\r\n",
    "from email.mime.application import MIMEApplication\r\n",
    "from email.mime.multipart import MIMEMultipart\r\n",
    "from smtplib import SMTP\r\n",
    "import smtplib, ssl\r\n",
    "import sys\r\n",
    "import schedule\r\n",
    "import time\r\n",
    "\r\n",
    "def send_email():\r\n",
    "  all_budgets,transactions = scrape()\r\n",
    "\r\n",
    "  # Defining subjectline and sender email\r\n",
    "  msg = MIMEMultipart()\r\n",
    "  msg['Subject'] = 'Daily Budget Update'\r\n",
    "  msg['From'] = gmail\r\n",
    "  # Creating tables from Pandas DFs\r\n",
    "  html = \"\"\"\\\r\n",
    "  <html>\r\n",
    "    <head></head>\r\n",
    "    <body>\r\n",
    "      {0}\r\n",
    "    </body>\r\n",
    "  </html>\r\n",
    "  \"\"\".format(all_budgets.to_html())\r\n",
    "\r\n",
    "  html2 = \"\"\"\\\r\n",
    "  <html>\r\n",
    "    <head></head>\r\n",
    "    <body>\r\n",
    "      {0}\r\n",
    "    </body>\r\n",
    "  </html>\r\n",
    "  \"\"\".format(transactions.to_html())\r\n",
    "\r\n",
    "  # Insert HTML tables into the email\r\n",
    "  part1 = MIMEText(html, 'html')\r\n",
    "  part2 = MIMEText(html2, 'html')\r\n",
    "  msg.attach(part1)\r\n",
    "  msg.attach(part2)\r\n",
    "\r\n",
    "  # Send Email\r\n",
    "  context = ssl.create_default_context()\r\n",
    "  with smtplib.SMTP_SSL('smtp.gmail.com',port=465, context=context) as server:\r\n",
    "      server.login(gmail,gmail_pass)\r\n",
    "      server.sendmail(gmail, email_list, msg.as_string()) \r\n",
    "send_email()"
   ],
   "outputs": [],
   "metadata": {}
  },
  {
   "cell_type": "code",
   "execution_count": null,
   "source": [
    "schedule.every().day.at(\"01:30\").do(send_email)\r\n",
    "\r\n",
    "while True:\r\n",
    "  schedule.run_pending()\r\n",
    "  time.sleep(1)"
   ],
   "outputs": [],
   "metadata": {}
  },
  {
   "cell_type": "code",
   "execution_count": null,
   "source": [],
   "outputs": [],
   "metadata": {}
  }
 ],
 "metadata": {
  "kernelspec": {
   "name": "python3",
   "display_name": "Python 3.7.6 64-bit ('base': conda)"
  },
  "language_info": {
   "codemirror_mode": {
    "name": "ipython",
    "version": 3
   },
   "file_extension": ".py",
   "mimetype": "text/x-python",
   "name": "python",
   "nbconvert_exporter": "python",
   "pygments_lexer": "ipython3",
   "version": "3.7.6"
  },
  "interpreter": {
   "hash": "99b88af7128504be879994067e556c218d2fa3fc4f94dab5aa11f6d9cef80e92"
  }
 },
 "nbformat": 4,
 "nbformat_minor": 2
}