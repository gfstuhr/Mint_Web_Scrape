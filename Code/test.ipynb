{
 "cells": [
  {
   "cell_type": "code",
   "execution_count": null,
   "metadata": {},
   "outputs": [],
   "source": [
    "# Dependencies\n",
    "from config import url, user_email, user_password\n",
    "from splinter import Browser\n",
    "import pandas as pd\n",
    "from datetime import datetime, timedelta\n",
    "from bs4 import BeautifulSoup\n",
    "import re\n",
    "import time\n",
    "import warnings\n",
    "from webdriver_manager.firefox import GeckoDriverManager\n",
    "warnings.simplefilter(action='ignore', category=FutureWarning)"
   ]
  },
  {
   "cell_type": "code",
   "execution_count": null,
   "metadata": {},
   "outputs": [],
   "source": [
    "# Browser setup\n",
    "executable_path = {'executable_path': GeckoDriverManager().install()}\n",
    "browser = Browser('firefox', **executable_path, headless=False)\n"
   ]
  },
  {
   "cell_type": "code",
   "execution_count": null,
   "metadata": {},
   "outputs": [],
   "source": [
    "# Log In to Mint\n",
    "browser.visit(url)\n",
    "browser.find_by_id('ius-identifier').first.fill(user_email)\n",
    "browser.find_by_id('ius-sign-in-submit-btn').first.click()\n",
    "time.sleep(5)\n",
    "browser.find_by_id('ius-sign-in-mfa-password-collection-current-password').first.fill(user_password)\n",
    "browser.find_by_id('ius-sign-in-mfa-password-collection-continue-btn').first.click()"
   ]
  },
  {
   "cell_type": "code",
   "execution_count": null,
   "metadata": {},
   "outputs": [],
   "source": [
    "# Go to transactions page\n",
    "browser.click_link_by_partial_text('Transactions')"
   ]
  },
  {
   "cell_type": "code",
   "execution_count": null,
   "metadata": {},
   "outputs": [],
   "source": [
    "# Defining yesterday's date\n",
    "yesterday=datetime.now()-timedelta(1)\n",
    "yesterday=datetime.strftime(yesterday, '%b %#d')"
   ]
  },
  {
   "cell_type": "code",
   "execution_count": null,
   "metadata": {},
   "outputs": [],
   "source": [
    "# Getting yesterday's transactions\n",
    "html=browser.html\n",
    "transactions = pd.read_html(html)[6]\n",
    "transactions = transactions[['Date','Description','Category','Amount']].droplevel(1,axis=1)\n",
    "transactions=transactions[transactions['Date']==yesterday]"
   ]
  },
  {
   "cell_type": "code",
   "execution_count": null,
   "metadata": {},
   "outputs": [],
   "source": [
    "# Go to budgets page\n",
    "browser.click_link_by_partial_text('Budgets')"
   ]
  },
  {
   "cell_type": "code",
   "execution_count": null,
   "metadata": {},
   "outputs": [],
   "source": [
    "# Get HTML \n",
    "html=browser.html\n",
    "soup=BeautifulSoup(html,\"html.parser\")\n",
    "\n",
    "income = soup.find('div',{'class': 'BudgetCardstyle__WrapperBudget-k3uxfw-1 irMFKm'})\n",
    "income_list = income.text.split('$')\n",
    "income_title = income_list[0]\n",
    "income_list = [re.sub(\"[^0-9]\", \"\", s) for s in income_list]\n",
    "income_progress = income_list[2]\n",
    "income_goal = income_list[3]\n",
    "income_details = {\n",
    "    'Name': income_title,\n",
    "    'Budget Amount': income_progress,\n",
    "    'Amount Spent': income_goal\n",
    "}\n",
    "\n",
    "# Find Budget Data\n",
    "budgets = soup.find_all('div',{'class':'BudgetListstyle__BudgetListSection-sc-1oeq37j-8 fzKgiV'})[1]\n",
    "budget_items =[]\n",
    "for result in budgets.find_all('div',{'class': 'BudgetCardstyle__WrapperBudget-k3uxfw-1 irMFKm'}):\n",
    "    budget_list = result.text.split('$')\n",
    "    budget_name = budget_list[0]\n",
    "    budget_list = [re.sub(\"[^0-9]\", \"\", s) for s in budget_list]\n",
    "    budget_spent = budget_list[-1]\n",
    "    budget_amount = budget_list[-2]\n",
    "    budget_details = {\n",
    "        'Name': budget_name,\n",
    "        'Budget Amount': budget_amount,\n",
    "        'Amount Spent': budget_spent\n",
    "    }\n",
    "    budget_items.append(budget_details)\n",
    "\n",
    "# #Find Everything Else Data\n",
    "everything_else = soup.find_all('div',{'class': 'EverythingElsestyle__EverythingElseListSection-n6fqz4-0 fAfoAa'})[1]\n",
    "everything_list = everything_else.text.split('$')\n",
    "everything_title = everything_list[0]\n",
    "everything_list = [re.sub(\"[^0-9]\", \"\", s) for s in everything_list]\n",
    "everything_progress = income_list[2]\n",
    "everything_goal = income_list[3]\n",
    "everything_details = {\n",
    "    'Name': everything_title,\n",
    "    'Budget Amount': everything_progress,\n",
    "    'Amount Spent': everything_goal\n",
    "}"
   ]
  },
  {
   "cell_type": "code",
   "execution_count": null,
   "metadata": {},
   "outputs": [],
   "source": [
    "# Closer browser\n",
    "browser.quit()"
   ]
  },
  {
   "cell_type": "code",
   "execution_count": null,
   "metadata": {},
   "outputs": [],
   "source": [
    "# Converting dictonaries to dataframes\n",
    "income_df = pd.DataFrame([income_details])\n",
    "budget_df = pd.DataFrame(budget_items)\n",
    "everything_df = pd.DataFrame([everything_details])"
   ]
  },
  {
   "cell_type": "code",
   "execution_count": null,
   "metadata": {},
   "outputs": [],
   "source": [
    "# Combining all data frames\n",
    "all_budgets = pd.concat([income_df,budget_df,everything_df], ignore_index=True)\n",
    "all_budgets[all_budgets.columns[1:]] = all_budgets[all_budgets.columns[1:]].astype(int)\n",
    "all_budgets['Remaining Budget'] = all_budgets['Budget Amount'] - all_budgets['Amount Spent']\n",
    "all_budgets"
   ]
  },
  {
   "cell_type": "code",
   "execution_count": null,
   "metadata": {},
   "outputs": [],
   "source": [
    "from scrape import scrape\n",
    "from config import email_list, gmail, gmail_pass\n",
    "from email.mime.text import MIMEText\n",
    "from email.mime.application import MIMEApplication\n",
    "from email.mime.multipart import MIMEMultipart\n",
    "from smtplib import SMTP\n",
    "import smtplib, ssl\n",
    "import sys\n",
    "import schedule\n",
    "import time\n",
    "\n",
    "def send_email():\n",
    "  all_budgets,transactions = scrape()\n",
    "\n",
    "  # Defining subjectline and sender email\n",
    "  msg = MIMEMultipart()\n",
    "  msg['Subject'] = 'Daily Budget Update'\n",
    "  msg['From'] = gmail\n",
    "  # Creating tables from Pandas DFs\n",
    "  html = \"\"\"\\\n",
    "  <html>\n",
    "    <head></head>\n",
    "    <body>\n",
    "      {0}\n",
    "    </body>\n",
    "  </html>\n",
    "  \"\"\".format(all_budgets.to_html())\n",
    "\n",
    "  html2 = \"\"\"\\\n",
    "  <html>\n",
    "    <head></head>\n",
    "    <body>\n",
    "      {0}\n",
    "    </body>\n",
    "  </html>\n",
    "  \"\"\".format(transactions.to_html())\n",
    "\n",
    "  # Insert HTML tables into the email\n",
    "  part1 = MIMEText(html, 'html')\n",
    "  part2 = MIMEText(html2, 'html')\n",
    "  msg.attach(part1)\n",
    "  msg.attach(part2)\n",
    "\n",
    "  # Send Email\n",
    "  context = ssl.create_default_context()\n",
    "  with smtplib.SMTP_SSL('smtp.gmail.com',port=465, context=context) as server:\n",
    "      server.login(gmail,gmail_pass)\n",
    "      server.sendmail(gmail, email_list, msg.as_string()) "
   ]
  },
  {
   "cell_type": "code",
   "execution_count": null,
   "metadata": {},
   "outputs": [],
   "source": [
    "schedule.every().day.at(\"01:30\").do(send_email)\n",
    "\n",
    "while True:\n",
    "  schedule.run_pending()\n",
    "  time.sleep(1)"
   ]
  },
  {
   "cell_type": "code",
   "execution_count": null,
   "metadata": {},
   "outputs": [],
   "source": []
  }
 ],
 "metadata": {
  "interpreter": {
   "hash": "dfaccf479b429b6bec64c362f9c1a9d3284105691a8d17bf9ee2ba88b4ac71ab"
  },
  "kernelspec": {
   "display_name": "Python 3.7.6 ('base')",
   "language": "python",
   "name": "python3"
  },
  "language_info": {
   "codemirror_mode": {
    "name": "ipython",
    "version": 3
   },
   "file_extension": ".py",
   "mimetype": "text/x-python",
   "name": "python",
   "nbconvert_exporter": "python",
   "pygments_lexer": "ipython3",
   "version": "3.7.6"
  }
 },
 "nbformat": 4,
 "nbformat_minor": 2
}
