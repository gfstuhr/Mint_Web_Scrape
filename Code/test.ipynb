{
 "cells": [
  {
   "cell_type": "code",
   "execution_count": null,
   "source": [
    "# Dependencies\r\n",
    "from config import url, user_email, user_password\r\n",
    "from splinter import Browser\r\n",
    "import pandas as pd\r\n",
    "from datetime import datetime, timedelta\r\n",
    "import time\r\n",
    "from bs4 import BeautifulSoup\r\n",
    "from webdriver_manager.chrome import ChromeDriverManager\r\n",
    "import re"
   ],
   "outputs": [],
   "metadata": {}
  },
  {
   "cell_type": "code",
   "execution_count": null,
   "source": [
    "# Browser setup\r\n",
    "executable_path = {'executable_path': ChromeDriverManager().install()}\r\n",
    "browser = Browser('chrome', **executable_path, headless=False)\r\n"
   ],
   "outputs": [],
   "metadata": {}
  },
  {
   "cell_type": "code",
   "execution_count": null,
   "source": [
    "# Log In to Mint\r\n",
    "browser.visit(url)\r\n",
    "browser.find_by_id('ius-identifier').first.fill(user_email)\r\n",
    "browser.find_by_id('ius-sign-in-submit-btn').first.click()\r\n",
    "time.sleep(5)\r\n",
    "browser.find_by_id('ius-sign-in-mfa-password-collection-current-password').first.fill(user_password)\r\n",
    "browser.find_by_id('ius-sign-in-mfa-password-collection-continue-btn').first.click()"
   ],
   "outputs": [],
   "metadata": {}
  },
  {
   "cell_type": "code",
   "execution_count": null,
   "source": [
    "# Go to transactions page\r\n",
    "browser.click_link_by_partial_text('Transactions')"
   ],
   "outputs": [],
   "metadata": {}
  },
  {
   "cell_type": "code",
   "execution_count": null,
   "source": [
    "# Defining yesterday's date\r\n",
    "# yesterday=datetime.now()-timedelta(1)\r\n",
    "# yesterday=datetime.strftime(yesterday, '%b %#d')"
   ],
   "outputs": [],
   "metadata": {}
  },
  {
   "cell_type": "code",
   "execution_count": null,
   "source": [
    "# Getting yesterday's transactions\r\n",
    "html=browser.html\r\n",
    "transactions = pd.read_html(html)[6]\r\n",
    "transactions = transactions[['Date','Description','Category','Amount']].droplevel(1,axis=1)\r\n",
    "# transactions=transactions[transactions['Date']==yesterday]\r\n",
    "transactions = transactions.head(5)\r\n",
    "transactions\r\n"
   ],
   "outputs": [],
   "metadata": {}
  },
  {
   "cell_type": "code",
   "execution_count": null,
   "source": [
    "# Go to budgets page\r\n",
    "browser.click_link_by_partial_text('Budgets')"
   ],
   "outputs": [],
   "metadata": {}
  },
  {
   "cell_type": "code",
   "execution_count": null,
   "source": [
    "# Get HTML \r\n",
    "html=browser.html\r\n",
    "soup=BeautifulSoup(html,\"html.parser\")\r\n",
    "\r\n",
    "# Find Income Data\r\n",
    "income = soup.find('ul',id='incomeBudget-list-body').find_all('strong')\r\n",
    "income_title = income[0].text\r\n",
    "income_progress = income[1].text\r\n",
    "income_goal = income[2].text\r\n",
    "income_details = {\r\n",
    "    'Name': income_title,\r\n",
    "    'Budget Amount': income_progress,\r\n",
    "    'Amount Spent': income_goal\r\n",
    "}\r\n",
    "\r\n",
    "# Find Budget Data\r\n",
    "budgets = soup.find('ul', id='spendingBudget-list-body')\r\n",
    "budget_list =[]\r\n",
    "for result in budgets.find_all('li',id=re.compile('budget-')):\r\n",
    "    budget_items = result.find_all('strong')\r\n",
    "    budget_name = budget_items[0].text\r\n",
    "    budget_spent = budget_items[1].text\r\n",
    "    budget_amount = budget_items[2].text\r\n",
    "    budget_details = {\r\n",
    "        'Name': budget_name,\r\n",
    "        'Budget Amount': budget_amount,\r\n",
    "        'Amount Spent': budget_spent\r\n",
    "    }\r\n",
    "    budget_list.append(budget_details)\r\n",
    "\r\n",
    "#Find Everything Else Data\r\n",
    "everything_else = soup.find('li',id='spendingEE-list-total').find_all('strong')\r\n",
    "everything_title = everything_else[0].text\r\n",
    "everything_spent = everything_else[2].text\r\n",
    "everything_goal = everything_else[1].text\r\n",
    "everything_details = {\r\n",
    "    'Name': everything_title,\r\n",
    "    'Budget Amount': everything_spent,\r\n",
    "    'Amount Spent': everything_goal\r\n",
    "}"
   ],
   "outputs": [],
   "metadata": {}
  },
  {
   "cell_type": "code",
   "execution_count": null,
   "source": [
    "# Closer browser\r\n",
    "browser.quit()"
   ],
   "outputs": [],
   "metadata": {}
  },
  {
   "cell_type": "code",
   "execution_count": null,
   "source": [
    "# Converting dictonaries to dataframes\r\n",
    "income_df = pd.DataFrame([income_details])\r\n",
    "budget_df = pd.DataFrame(budget_list)\r\n",
    "everything_df = pd.DataFrame([everything_details])\r\n",
    "everything_df"
   ],
   "outputs": [],
   "metadata": {}
  },
  {
   "cell_type": "code",
   "execution_count": null,
   "source": [
    "# Combining all data frames\r\n",
    "all_budgets = pd.concat([income_df,budget_df,everything_df], ignore_index=True)\r\n",
    "all_budgets[all_budgets.columns[1:]] = all_budgets[all_budgets.columns[1:]].replace('[\\$,]', '', regex=True).astype(int)\r\n",
    "all_budgets['Remaining Budget'] = all_budgets['Budget Amount'] - all_budgets['Amount Spent']\r\n",
    "all_budgets"
   ],
   "outputs": [],
   "metadata": {}
  },
  {
   "cell_type": "code",
   "execution_count": null,
   "source": [
    "from scrape import scrape\r\n",
    "from config import email_list, gmail, gmail_pass\r\n",
    "from email.mime.text import MIMEText\r\n",
    "from email.mime.application import MIMEApplication\r\n",
    "from email.mime.multipart import MIMEMultipart\r\n",
    "from smtplib import SMTP\r\n",
    "import smtplib, ssl\r\n",
    "import sys\r\n",
    "import schedule\r\n",
    "import time\r\n",
    "\r\n",
    "def send_email():\r\n",
    "  all_budgets,transactions = scrape()\r\n",
    "\r\n",
    "  # Defining subjectline and sender email\r\n",
    "  msg = MIMEMultipart()\r\n",
    "  msg['Subject'] = 'Daily Budget Update'\r\n",
    "  msg['From'] = gmail\r\n",
    "  # Creating tables from Pandas DFs\r\n",
    "  html = \"\"\"\\\r\n",
    "  <html>\r\n",
    "    <head></head>\r\n",
    "    <body>\r\n",
    "      {0}\r\n",
    "    </body>\r\n",
    "  </html>\r\n",
    "  \"\"\".format(all_budgets.to_html())\r\n",
    "\r\n",
    "  html2 = \"\"\"\\\r\n",
    "  <html>\r\n",
    "    <head></head>\r\n",
    "    <body>\r\n",
    "      {0}\r\n",
    "    </body>\r\n",
    "  </html>\r\n",
    "  \"\"\".format(transactions.to_html())\r\n",
    "\r\n",
    "  # Insert HTML tables into the email\r\n",
    "  part1 = MIMEText(html, 'html')\r\n",
    "  part2 = MIMEText(html2, 'html')\r\n",
    "  msg.attach(part1)\r\n",
    "  msg.attach(part2)\r\n",
    "\r\n",
    "  # Send Email\r\n",
    "  context = ssl.create_default_context()\r\n",
    "  with smtplib.SMTP_SSL('smtp.gmail.com',port=465, context=context) as server:\r\n",
    "      server.login(gmail,gmail_pass)\r\n",
    "      server.sendmail(gmail, email_list, msg.as_string()) \r\n",
    "send_email()"
   ],
   "outputs": [],
   "metadata": {}
  },
  {
   "cell_type": "code",
   "execution_count": null,
   "source": [
    "schedule.every().day.at(\"01:30\").do(send_email)\r\n",
    "\r\n",
    "while True:\r\n",
    "  schedule.run_pending()\r\n",
    "  time.sleep(1)"
   ],
   "outputs": [],
   "metadata": {}
  },
  {
   "cell_type": "code",
   "execution_count": null,
   "source": [],
   "outputs": [],
   "metadata": {}
  }
 ],
 "metadata": {
  "kernelspec": {
   "name": "python3",
   "display_name": "Python 3.7.6 64-bit ('base': conda)"
  },
  "language_info": {
   "codemirror_mode": {
    "name": "ipython",
    "version": 3
   },
   "file_extension": ".py",
   "mimetype": "text/x-python",
   "name": "python",
   "nbconvert_exporter": "python",
   "pygments_lexer": "ipython3",
   "version": "3.7.6"
  },
  "interpreter": {
   "hash": "99b88af7128504be879994067e556c218d2fa3fc4f94dab5aa11f6d9cef80e92"
  }
 },
 "nbformat": 4,
 "nbformat_minor": 2
}